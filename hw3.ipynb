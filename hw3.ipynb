{
  "cells": [
    {
      "cell_type": "markdown",
      "metadata": {
        "id": "WhGk85ok63t6"
      },
      "source": [
        "# Đề bài về nhà"
      ]
    },
    {
      "cell_type": "markdown",
      "metadata": {
        "id": "krqFQyb763t8"
      },
      "source": [
        "## Yêu cầu"
      ]
    },
    {
      "cell_type": "markdown",
      "metadata": {
        "id": "i8whYV_l63t8"
      },
      "source": [
        "- Tự viết code cho mô hình Linear Regression theo công thức đã được dạy trong buổi lý thuyết trên lớp.\n",
        "- Tự viết hàm dự đoán.\n",
        "- Huấn luyện cả mô hình của thư viện và mô hình mình tự viết.\n",
        "- In ra các trọng số: w0, w1, w2, ..., wn của cả 2 mô hình đã huấn luyện để quan sát và so sánh.\n",
        "- Dự đoán dữ liệu tập test bằng cả 2 mô hình (mô hình thư viện thì dùng hàm predict() của thư viện, mô hình tự viết dùng hàm dự đoán tự viết), in ra kết quả bằng Dataframe như trong bài thực hành trên lớp.\n",
        "- Tính RMSE trên tập test cho cả 2 mô hình và so sánh."
      ]
    },
    {
      "cell_type": "markdown",
      "metadata": {
        "id": "0P-mT3-863t9"
      },
      "source": [
        "## Dữ liệu"
      ]
    },
    {
      "cell_type": "markdown",
      "metadata": {
        "id": "_5psTc0A63t9"
      },
      "source": [
        "Tập dữ liệu giá nhà ở Boston đã có sẵn trên sklearn, dữ liệu đã được chuẩn hóa và chia thành tập train, tập test"
      ]
    },
    {
      "cell_type": "code",
      "execution_count": 27,
      "metadata": {
        "id": "PSEWYLtR63t9"
      },
      "outputs": [],
      "source": [
        "import matplotlib.pyplot as plt\n",
        "import numpy as np\n",
        "import pandas as pd\n",
        "import math\n",
        "import requests\n",
        "from sklearn import datasets\n",
        "from sklearn import datasets, linear_model\n",
        "from sklearn.metrics import mean_squared_error, r2_score\n"
      ]
    },
    {
      "cell_type": "markdown",
      "metadata": {
        "id": "w_iAvDgV63t-"
      },
      "source": [
        "# Đọc dữ liệu\n",
        "\n",
        "Dữ liệu về giá nhà ở Boston được hỗ trợ bởi sklearn, đọc dữ liệu thông qua hàm `datasets.load_boston()`\n",
        "\n",
        "Xem thêm các bộ dữ liệu khác tại https://scikit-learn.org/stable/datasets/index.html#toy-datasets.\n",
        "\n",
        "Dữ liệu được chia thành các thành phần data và target như tập diabetes. Dữ liệu cũng đã được chuẩn hóa, chỉ cần gọi ra và huấn luyện"
      ]
    },
    {
      "cell_type": "code",
      "execution_count": 28,
      "metadata": {
        "colab": {
          "base_uri": "https://localhost:8080/"
        },
        "id": "CG4E4JR-63t_",
        "outputId": "6e4ce9f4-5ab2-422d-8627-53382f947fe3"
      },
      "outputs": [
        {
          "output_type": "stream",
          "name": "stdout",
          "text": [
            "Số chiều dữ liệu input:  (20640, 8)\n",
            "Số chiều dữ liệu target:  (20640,)\n",
            "\n",
            "5 mẫu dữ liệu đầu tiên:\n",
            "input:  [[ 8.32520000e+00  4.10000000e+01  6.98412698e+00  1.02380952e+00\n",
            "   3.22000000e+02  2.55555556e+00  3.78800000e+01 -1.22230000e+02]\n",
            " [ 8.30140000e+00  2.10000000e+01  6.23813708e+00  9.71880492e-01\n",
            "   2.40100000e+03  2.10984183e+00  3.78600000e+01 -1.22220000e+02]\n",
            " [ 7.25740000e+00  5.20000000e+01  8.28813559e+00  1.07344633e+00\n",
            "   4.96000000e+02  2.80225989e+00  3.78500000e+01 -1.22240000e+02]\n",
            " [ 5.64310000e+00  5.20000000e+01  5.81735160e+00  1.07305936e+00\n",
            "   5.58000000e+02  2.54794521e+00  3.78500000e+01 -1.22250000e+02]\n",
            " [ 3.84620000e+00  5.20000000e+01  6.28185328e+00  1.08108108e+00\n",
            "   5.65000000e+02  2.18146718e+00  3.78500000e+01 -1.22250000e+02]]\n",
            "target:  [4.526 3.585 3.521 3.413 3.422]\n"
          ]
        }
      ],
      "source": [
        "\n",
        "\n",
        "# Load the California housing dataset instead of the Boston dataset\n",
        "dataset = datasets.fetch_california_housing()\n",
        "\n",
        "print(\"Số chiều dữ liệu input: \", dataset.data.shape)\n",
        "print(\"Số chiều dữ liệu target: \", dataset.target.shape)\n",
        "print()\n",
        "\n",
        "print(\"5 mẫu dữ liệu đầu tiên:\")\n",
        "print(\"input: \", dataset.data[:5])\n",
        "print(\"target: \", dataset.target[:5])"
      ]
    },
    {
      "cell_type": "markdown",
      "metadata": {
        "id": "7OnsUwZ_63t_"
      },
      "source": [
        "**Chia dữ liệu làm 2 phần training 362 mẫu và testing 80 mẫu**"
      ]
    },
    {
      "cell_type": "code",
      "execution_count": 29,
      "metadata": {
        "id": "dwYcPYJs63t_"
      },
      "outputs": [],
      "source": [
        "# cat nho du lieu, lay 1 phan cho qua trinh thu nghiem,\n",
        "# chia train test cac mau du lieu\n",
        "# dataset_X = dataset.data[:, np.newaxis, 2]\n",
        "dataset_X = dataset.data\n",
        "\n",
        "dataset_X_train = dataset_X[:404]\n",
        "dataset_y_train = dataset.target[:404]\n",
        "\n",
        "dataset_X_test = dataset_X[405:]\n",
        "dataset_y_test = dataset.target[405:]\n"
      ]
    },
    {
      "cell_type": "markdown",
      "metadata": {
        "id": "1vmkyqy763uA"
      },
      "source": [
        "# Xây dựng mô hình"
      ]
    },
    {
      "cell_type": "markdown",
      "metadata": {
        "id": "OutOUArf63uA"
      },
      "source": [
        "## Xây dựng mô hình bằng thư viện"
      ]
    },
    {
      "cell_type": "code",
      "execution_count": 30,
      "metadata": {
        "id": "bLLqHEbS63uA"
      },
      "outputs": [],
      "source": [
        "linreg = linear_model.LinearRegression()\n"
      ]
    },
    {
      "cell_type": "markdown",
      "metadata": {
        "id": "5YF7uAMi63uA"
      },
      "source": [
        "## Xây dựng mô hình Linear Regression tự viết"
      ]
    },
    {
      "cell_type": "code",
      "execution_count": 31,
      "metadata": {
        "id": "L-TeImQn63uA"
      },
      "outputs": [],
      "source": [
        "\n",
        "class LinearRegre:\n",
        "  def __init__(self):\n",
        "    pass\n",
        "\n",
        "  def fit(self, X, y):\n",
        "    self.m, self.n = X.shape\n",
        "    X_b = np.c_[np.ones((self.m, 1)), X]\n",
        "    theta_best = np.linalg.inv(X_b.T.dot(X_b)).dot(X_b.T).dot(y)\n",
        "    self.b = theta_best[0]\n",
        "    self.W = theta_best[1:]\n",
        "    return self\n",
        "\n",
        "  def predict(self, X):\n",
        "    X_b = np.c_[np.ones((X.shape[0], 1)), X]\n",
        "    return X_b.dot(np.r_[self.b, self.W])\n",
        "  def predict(self, X):\n",
        "    return X.dot(self.W) + self.b\n"
      ]
    },
    {
      "cell_type": "markdown",
      "metadata": {
        "id": "weGtnOOQ63uB"
      },
      "source": [
        "## Hàm test mô hình tự viết"
      ]
    },
    {
      "cell_type": "code",
      "execution_count": 32,
      "metadata": {
        "id": "lHMnMCDh63uB"
      },
      "outputs": [],
      "source": [
        "lreg = LinearRegre()\n"
      ]
    },
    {
      "cell_type": "markdown",
      "metadata": {
        "id": "VVmrll--63uB"
      },
      "source": [
        "# Huấn luyện mô hình"
      ]
    },
    {
      "cell_type": "markdown",
      "metadata": {
        "id": "BDF6z4_063uB"
      },
      "source": [
        "## Huấn luyện mô hình của thư viện"
      ]
    },
    {
      "cell_type": "code",
      "source": [
        "linreg.fit(dataset_X_train, dataset_y_train)\n",
        "print(linreg.coef_)"
      ],
      "metadata": {
        "colab": {
          "base_uri": "https://localhost:8080/"
        },
        "id": "PXc1GYrbA2Xv",
        "outputId": "25b4f712-b7f5-49b3-c125-af1132999ef2"
      },
      "execution_count": 33,
      "outputs": [
        {
          "output_type": "stream",
          "name": "stdout",
          "text": [
            "[ 3.04947119e-01 -5.68058047e-03  2.32993115e-02 -8.21109567e-01\n",
            "  1.14046559e-04 -7.99831981e-02  9.32223296e+00  1.75170090e+00]\n"
          ]
        }
      ]
    },
    {
      "cell_type": "markdown",
      "metadata": {
        "id": "0bvm7xWU63uB"
      },
      "source": [
        "## Training mô hình bằng Linear regression tự viết"
      ]
    },
    {
      "cell_type": "code",
      "source": [
        "lreg.fit(dataset_X_train, dataset_y_train)\n",
        "print(lreg.W)\n"
      ],
      "metadata": {
        "colab": {
          "base_uri": "https://localhost:8080/"
        },
        "id": "7kkNBMDRA4q7",
        "outputId": "9f4e276a-2b74-41f4-f961-b8f7452a9a4d"
      },
      "execution_count": 34,
      "outputs": [
        {
          "output_type": "stream",
          "name": "stdout",
          "text": [
            "[ 3.04947118e-01 -5.68058048e-03  2.32993111e-02 -8.21109563e-01\n",
            "  1.14046559e-04 -7.99831976e-02  9.32223307e+00  1.75170098e+00]\n"
          ]
        }
      ]
    },
    {
      "cell_type": "markdown",
      "metadata": {
        "id": "r6L-vyk163uB"
      },
      "source": [
        "# Dự đoán các mẫu dữ liệu"
      ]
    },
    {
      "cell_type": "markdown",
      "metadata": {
        "id": "ivrma9SO63uB"
      },
      "source": [
        "## Dự đoán các mẫu dữ liệu theo mô hình của thư viện"
      ]
    },
    {
      "cell_type": "code",
      "source": [
        "mod_pred = linreg.predict(dataset_X_test)\n",
        "print(mod_pred)"
      ],
      "metadata": {
        "colab": {
          "base_uri": "https://localhost:8080/"
        },
        "id": "fD3fBSNOA5bm",
        "outputId": "70cd5e9b-30d9-400c-a8aa-27aaabbbf447"
      },
      "execution_count": 35,
      "outputs": [
        {
          "output_type": "stream",
          "name": "stdout",
          "text": [
            "[ 3.55089447  3.74663074  4.30741201 ... 18.40373074 18.22005397\n",
            " 18.01158289]\n"
          ]
        }
      ]
    },
    {
      "cell_type": "markdown",
      "metadata": {
        "id": "5ZARMvl463uB"
      },
      "source": [
        "## Dự đoán các mẫu dữ liệu tính theo linear regression tự viết"
      ]
    },
    {
      "cell_type": "code",
      "source": [
        "my_pred = lreg.predict(dataset_X_test)\n",
        "print(my_pred)"
      ],
      "metadata": {
        "colab": {
          "base_uri": "https://localhost:8080/"
        },
        "id": "TnlhrRC6BJU2",
        "outputId": "a2443b24-f086-4a89-a1b2-32a383e8dca6"
      },
      "execution_count": 36,
      "outputs": [
        {
          "output_type": "stream",
          "name": "stdout",
          "text": [
            "[ 3.55089448  3.74663074  4.30741201 ... 18.403731   18.22005422\n",
            " 18.01158314]\n"
          ]
        }
      ]
    },
    {
      "cell_type": "markdown",
      "metadata": {
        "id": "LtYa0nM163uB"
      },
      "source": [
        "## Đánh giá mô hình linear regression của thư viện\n",
        "\n",
        "---\n",
        "\n"
      ]
    },
    {
      "cell_type": "code",
      "source": [
        "r2_model = r2_score(dataset_y_test, mod_pred)\n",
        "print(\"R2 score: \", r2_model)"
      ],
      "metadata": {
        "colab": {
          "base_uri": "https://localhost:8080/"
        },
        "id": "3B2Ltw9ZBOtZ",
        "outputId": "7357ca02-b65d-4814-9c00-2209cdba431e"
      },
      "execution_count": 37,
      "outputs": [
        {
          "output_type": "stream",
          "name": "stdout",
          "text": [
            "R2 score:  -400.4494091170592\n"
          ]
        }
      ]
    },
    {
      "cell_type": "markdown",
      "metadata": {
        "id": "zsfgd9Pr63uB"
      },
      "source": [
        "## Đánh giá mô hình linear regression tự viết"
      ]
    },
    {
      "cell_type": "code",
      "execution_count": 39,
      "metadata": {
        "colab": {
          "base_uri": "https://localhost:8080/"
        },
        "id": "9MumJnm563uC",
        "outputId": "bae08858-82d3-4d68-bd26-678118972843"
      },
      "outputs": [
        {
          "output_type": "stream",
          "name": "stdout",
          "text": [
            "My R2: -400.4494113541649\n"
          ]
        }
      ],
      "source": [
        "r2_my = r2_score(dataset_y_test, my_pred)\n",
        "print(\"My R2:\", r2_my)"
      ]
    },
    {
      "cell_type": "code",
      "source": [],
      "metadata": {
        "id": "jIL6r0DEBYEk"
      },
      "execution_count": null,
      "outputs": []
    }
  ],
  "metadata": {
    "kernelspec": {
      "display_name": "Python [conda env:mlcourse1] *",
      "language": "python",
      "name": "conda-env-mlcourse1-py"
    },
    "language_info": {
      "codemirror_mode": {
        "name": "ipython",
        "version": 3
      },
      "file_extension": ".py",
      "mimetype": "text/x-python",
      "name": "python",
      "nbconvert_exporter": "python",
      "pygments_lexer": "ipython3",
      "version": "3.12.0"
    },
    "colab": {
      "provenance": []
    }
  },
  "nbformat": 4,
  "nbformat_minor": 0
}